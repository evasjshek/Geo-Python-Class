{
 "cells": [
  {
   "cell_type": "raw",
   "id": "1594146c-fd40-4a1b-92ed-06a3dc961f02",
   "metadata": {},
   "source": [
    "https://github.com/Geo-Python-2022/Exercise-4/blob/66e271440ce25f1382fa9666513c5c982e30888d//Exercise-4-problem-3.ipynb"
   ]
  },
  {
   "cell_type": "raw",
   "id": "6a2ebcca-0d55-4676-9e70-73d84f2582be",
   "metadata": {},
   "source": [
    "Problem 3 - Applying the classifier \n",
    "(1) Creating a new script file called temp_functions.py with the functions that you wrote in Problems 1 and 2\n",
    "(2) Including a docstring in the script file\n",
    "(3) Converting and classifying the list of temperatures in Part 2\n",
    "(4) Storing the number of temperatures in each class in the specified variables\n",
    "(5) Answering some questions at the end of this problem\n",
    "(6) Uploading your notebook to your GitHub repository for this week's exercise\n",
    "\n",
    "Part 1: Creating a script file \n",
    "created: temp_functions.py\n",
    "\n",
    "Part 2: Convert Fahrenheit temperatures to Celsius\n",
    "(1) Store the Fahrenheit temperatures below into the list temp_data"
   ]
  },
  {
   "cell_type": "code",
   "execution_count": 1,
   "id": "e773f329-36e2-47e3-be3e-2e3c9e84114c",
   "metadata": {
    "tags": []
   },
   "outputs": [],
   "source": [
    "# List of half-hourly temperature values (in degrees Fahrenheit) for one week\n",
    "temp_data =  [19, 21, 21, 21, 23, 23, 23, 21, 19, 21, 19, 21, 23, 27, 27, 28, 30, 30, 32, 32, 32, 32, \n",
    "              34, 34, 34, 36, 36, 36, 36, 36, 36, 34, 34, 34, 34, 34, 34, 32, 30, 30, 30, 28, 28, 27,\n",
    "              27, 27, 23, 23, 21, 21, 21, 19, 19, 19, 18, 18, 21, 27, 28, 30, 32, 34, 36, 37, 37, 37, \n",
    "              39, 39, 39, 39, 39, 39, 41, 41, 41, 41, 41, 39, 39, 37, 37, 36, 36, 34, 34, 32, 30, 30,\n",
    "              28, 27, 27, 25, 23, 23, 21, 21, 19, 19, 19, 18, 18, 18, 21, 25, 27, 28, 34, 34, 41, 37, \n",
    "              37, 39, 39, 39, 39, 41, 41, 39, 39, 39, 39, 39, 41, 39, 39, 39, 37, 36, 34, 32, 28, 28,\n",
    "              27, 25, 25, 25, 23, 23, 23, 23, 21, 21, 21, 21, 19, 21, 19, 21, 21, 19, 21, 27, 28, 32,\n",
    "              36, 36, 37, 39, 39, 39, 39, 39, 41, 41, 41, 41, 41, 41, 41, 41, 41, 39, 37, 36, 36, 34,\n",
    "              32, 30, 28, 28, 27, 27, 25, 25, 23, 23, 23, 21, 21, 21, 19, 19, 19, 19, 19, 19, 21, 23,\n",
    "              23, 23, 25, 27, 30, 36, 37, 37, 39, 39, 41, 41, 41, 39, 39, 41, 43, 43, 43, 43, 43, 43,\n",
    "              43, 43, 43, 39, 37, 37, 37, 36, 36, 36, 36, 34, 32, 32, 32, 32, 30, 30, 28, 28, 28, 27,\n",
    "              27, 27, 27, 25, 27, 27, 27, 28, 28, 28, 30, 32, 32, 32, 34, 34, 36, 36, 36, 37, 37, 37,\n",
    "              37, 37, 37, 37, 37, 37, 36, 34, 30, 30, 27, 27, 25, 25, 23, 21, 21, 21, 21, 19, 19, 19,\n",
    "              19, 19, 18, 18, 18, 18, 18, 19, 23, 27, 30, 32, 32, 32, 32, 32, 32, 34, 34, 34, 34, 34,\n",
    "              36, 36, 36, 36, 36, 32, 32, 32, 32, 32, 32, 32, 32, 30, 30, 30, 30, 30, 30, 30, 30, 30,\n",
    "              30, 30, 30, 30, 28, 28]"
   ]
  },
  {
   "cell_type": "code",
   "execution_count": 2,
   "id": "59f17b5f-4ddf-45e3-bc7d-83bc0c1d6e6e",
   "metadata": {
    "tags": []
   },
   "outputs": [
    {
     "name": "stdout",
     "output_type": "stream",
     "text": [
      "336\n"
     ]
    }
   ],
   "source": [
    "print(len(temp_data))"
   ]
  },
  {
   "cell_type": "raw",
   "id": "9a465741-2433-4517-b8b5-ab3a4302e4c6",
   "metadata": {},
   "source": [
    "Part 2 - continues\n",
    "(2) Import the fahr_to_celsius and temp_classifier functions from your temp_functions.py script\n",
    "\n",
    "(3) Create an empty list called temp_classes (which will be filled with temperature class numbers later)\n",
    "\n",
    "(4) Convert the Fahrenheit temperatures in the temp_data list into Celsius and classify the Celsius temperatures using the importend functions. The output should be stored in the temp_classes list.\n",
    "\n",
    "You can do the temperature conversion and classification inside one for loop:\n",
    "\n",
    "Iterate over the list of Fahrenheit temperatures (i.e., create a for loop), and inside the loop:\n",
    "- Create a new variable called temp_celsius in which you assign the temperature in Celsius using the fahr_to_celsius function to convert the Fahrenheit temperature into Celsius\n",
    "- Create a new variable called temp_class in which you assign the temperature class number (0, 1, 2, or 3) using the temp_classifier function\n",
    "- Add the temp_class value to the temp_classes list"
   ]
  },
  {
   "cell_type": "code",
   "execution_count": 21,
   "id": "a739ed13-6b88-4589-a434-c7ec0b32c42f",
   "metadata": {
    "tags": []
   },
   "outputs": [],
   "source": [
    "from temp_functions import fahr_to_celsius, temp_classifier\n",
    "temp_classes = []\n",
    "\n",
    "for i in range(len(temp_data)):\n",
    "    temp_celsius = fahr_to_celsius(temp_data[i])\n",
    "    temp_class = temp_classifier(temp_celsius)\n",
    "    temp_classes.append(temp_class)"
   ]
  },
  {
   "cell_type": "code",
   "execution_count": 22,
   "id": "8ac9dde3-fdff-4a0e-a74c-478f11f788f8",
   "metadata": {
    "tags": []
   },
   "outputs": [
    {
     "name": "stdout",
     "output_type": "stream",
     "text": [
      "[0, 0, 0, 0, 0, 0, 0, 0, 0, 0, 0, 0, 0, 0, 0, 0, 1, 1, 1, 1, 1, 1, 1, 1, 1, 2, 2, 2, 2, 2, 2, 1, 1, 1, 1, 1, 1, 1, 1, 1, 1, 0, 0, 0, 0, 0, 0, 0, 0, 0, 0, 0, 0, 0, 0, 0, 0, 0, 0, 1, 1, 1, 2, 2, 2, 2, 2, 2, 2, 2, 2, 2, 2, 2, 2, 2, 2, 2, 2, 2, 2, 2, 2, 1, 1, 1, 1, 1, 0, 0, 0, 0, 0, 0, 0, 0, 0, 0, 0, 0, 0, 0, 0, 0, 0, 0, 1, 1, 2, 2, 2, 2, 2, 2, 2, 2, 2, 2, 2, 2, 2, 2, 2, 2, 2, 2, 2, 2, 1, 1, 0, 0, 0, 0, 0, 0, 0, 0, 0, 0, 0, 0, 0, 0, 0, 0, 0, 0, 0, 0, 0, 0, 0, 1, 2, 2, 2, 2, 2, 2, 2, 2, 2, 2, 2, 2, 2, 2, 2, 2, 2, 2, 2, 2, 2, 1, 1, 1, 0, 0, 0, 0, 0, 0, 0, 0, 0, 0, 0, 0, 0, 0, 0, 0, 0, 0, 0, 0, 0, 0, 0, 0, 1, 2, 2, 2, 2, 2, 2, 2, 2, 2, 2, 2, 2, 2, 2, 2, 2, 2, 2, 2, 2, 2, 2, 2, 2, 2, 2, 2, 2, 1, 1, 1, 1, 1, 1, 1, 0, 0, 0, 0, 0, 0, 0, 0, 0, 0, 0, 0, 0, 0, 1, 1, 1, 1, 1, 1, 2, 2, 2, 2, 2, 2, 2, 2, 2, 2, 2, 2, 2, 1, 1, 1, 0, 0, 0, 0, 0, 0, 0, 0, 0, 0, 0, 0, 0, 0, 0, 0, 0, 0, 0, 0, 0, 0, 1, 1, 1, 1, 1, 1, 1, 1, 1, 1, 1, 1, 2, 2, 2, 2, 2, 1, 1, 1, 1, 1, 1, 1, 1, 1, 1, 1, 1, 1, 1, 1, 1, 1, 1, 1, 1, 1, 0, 0]\n"
     ]
    }
   ],
   "source": [
    "print(temp_classes)"
   ]
  },
  {
   "cell_type": "raw",
   "id": "30c83275-8c5b-490f-bd04-7f9a19e280f9",
   "metadata": {},
   "source": [
    "Part 2 (continues)\n",
    "Calculate how many temperatures there are in each temperature class:\n",
    "\n",
    "(5) Create four variables called zeros, ones, twos, and threes\n",
    "Count and assign to each variable how many times values 0, 1, 2, and 3 are present in the temp_classes list and print out the results below. In other words, assign the value of how many time 0 is in the list to the variable zeros, and so on."
   ]
  },
  {
   "cell_type": "code",
   "execution_count": 23,
   "id": "1ff6127a-264d-4582-8793-be77bfd733a5",
   "metadata": {
    "tags": []
   },
   "outputs": [],
   "source": [
    "zeros = temp_classes.count(0)\n",
    "ones = temp_classes.count(1)\n",
    "twos = temp_classes.count(2)\n",
    "threes = temp_classes.count(3)"
   ]
  },
  {
   "cell_type": "code",
   "execution_count": 24,
   "id": "ddaf2c2f-598f-4ba2-accd-3baa0c4dd6a4",
   "metadata": {
    "tags": []
   },
   "outputs": [
    {
     "name": "stdout",
     "output_type": "stream",
     "text": [
      "There are 137 0 values exist in the temp_classes list\n",
      "There are 85 1 values exist in the temp_classes list\n",
      "There are 114 2 values exist in the temp_classes list\n",
      "There are 0 3 values exist in the temp_classes list\n"
     ]
    }
   ],
   "source": [
    "# 1. How many 0 values exist in the temp_classes list?\n",
    "print(f\"There are {zeros} 0 values exist in the temp_classes list\")\n",
    "\n",
    "# 2. How many 1 values exist in the temp_classes list?\n",
    "print(f\"There are {ones} 1 values exist in the temp_classes list\")\n",
    "\n",
    "# 3. How many 2 values exist in the temp_classes list?\n",
    "print(f\"There are {twos} 2 values exist in the temp_classes list\")\n",
    "\n",
    "# 4. How many 3 values exist in the temp_classes list?\n",
    "print(f\"There are {threes} 3 values exist in the temp_classes list\")"
   ]
  },
  {
   "cell_type": "code",
   "execution_count": 19,
   "id": "84fafd85-74b7-4d8e-8a7d-7b3a5476545b",
   "metadata": {
    "tags": []
   },
   "outputs": [
    {
     "name": "stdout",
     "output_type": "stream",
     "text": [
      "False\n"
     ]
    }
   ],
   "source": [
    "for i in temp_classes:\n",
    "    if i > 50:\n",
    "        temp_above_50F = True\n",
    "    else:\n",
    "        temp_above_50F = False\n",
    "\n",
    "print(temp_above_50F)"
   ]
  },
  {
   "cell_type": "code",
   "execution_count": 25,
   "id": "67255fdc-73f6-40b6-9338-a65d91f31bc2",
   "metadata": {
    "tags": []
   },
   "outputs": [],
   "source": [
    "import inspect\n",
    "\n",
    "# Check that functions are in the namespace\n",
    "assert inspect.isfunction(fahr_to_celsius)\n",
    "assert inspect.isfunction(temp_classifier)"
   ]
  },
  {
   "cell_type": "code",
   "execution_count": 26,
   "id": "11773509-d0a1-462c-a0f1-01caf89b9f5e",
   "metadata": {
    "tags": []
   },
   "outputs": [],
   "source": [
    "# Check that variable has been created\n",
    "assert 'temp_celsius' in locals()\n",
    "assert 'temp_class' in locals()\n",
    "assert 'temp_classes' in locals()\n",
    "\n",
    "# Check that temp_classes is a list\n",
    "assert type(temp_classes) == list"
   ]
  },
  {
   "cell_type": "code",
   "execution_count": 27,
   "id": "87dd58f8-9124-4f0c-94ed-4a9fcdf394d5",
   "metadata": {
    "tags": []
   },
   "outputs": [],
   "source": [
    "# Check that the functions have a single parameter\n",
    "t_params = list(inspect.signature(temp_classifier).parameters.keys())\n",
    "f_params = list(inspect.signature(fahr_to_celsius).parameters.keys())\n",
    "assert len(t_params) == 1\n",
    "assert len(f_params) == 1"
   ]
  },
  {
   "cell_type": "code",
   "execution_count": 28,
   "id": "74230954-75af-4eb8-af3f-f5386f2dcb26",
   "metadata": {
    "tags": []
   },
   "outputs": [
    {
     "name": "stdout",
     "output_type": "stream",
     "text": [
      "137\n"
     ]
    }
   ],
   "source": [
    "# Check the variable \"zeros\" \n",
    "assert 'zeros' in locals()\n",
    "print(zeros)"
   ]
  },
  {
   "cell_type": "code",
   "execution_count": 29,
   "id": "363f933d-8caa-45ac-bd2b-5577598091b4",
   "metadata": {
    "tags": []
   },
   "outputs": [
    {
     "name": "stdout",
     "output_type": "stream",
     "text": [
      "85\n"
     ]
    }
   ],
   "source": [
    "# Check the variable \"ones\" \n",
    "assert 'ones' in locals()\n",
    "print(ones)"
   ]
  },
  {
   "cell_type": "code",
   "execution_count": 30,
   "id": "1d729ccc-ecbe-45db-a47f-43021f2594fa",
   "metadata": {
    "tags": []
   },
   "outputs": [
    {
     "name": "stdout",
     "output_type": "stream",
     "text": [
      "114\n"
     ]
    }
   ],
   "source": [
    "# Checkthe variable \"twos\" \n",
    "assert 'twos' in locals()\n",
    "print(twos)"
   ]
  },
  {
   "cell_type": "code",
   "execution_count": 31,
   "id": "f21ced48-5d1a-440e-ad5d-b81bb1c0506b",
   "metadata": {
    "tags": []
   },
   "outputs": [
    {
     "name": "stdout",
     "output_type": "stream",
     "text": [
      "0\n"
     ]
    }
   ],
   "source": [
    "# Check the variable \"threes\" \n",
    "assert 'threes' in locals()\n",
    "print(threes)"
   ]
  },
  {
   "cell_type": "code",
   "execution_count": null,
   "id": "f53ac749-b993-43b0-accd-5c3517452e91",
   "metadata": {},
   "outputs": [],
   "source": []
  }
 ],
 "metadata": {
  "kernelspec": {
   "display_name": "Python 3 (ipykernel)",
   "language": "python",
   "name": "python3"
  },
  "language_info": {
   "codemirror_mode": {
    "name": "ipython",
    "version": 3
   },
   "file_extension": ".py",
   "mimetype": "text/x-python",
   "name": "python",
   "nbconvert_exporter": "python",
   "pygments_lexer": "ipython3",
   "version": "3.9.11"
  }
 },
 "nbformat": 4,
 "nbformat_minor": 5
}
