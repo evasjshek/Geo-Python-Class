{
 "cells": [
  {
   "cell_type": "code",
   "execution_count": 4,
   "id": "f502ca64-800f-4efd-b70c-80db2f0e298b",
   "metadata": {
    "tags": []
   },
   "outputs": [],
   "source": [
    "def celsius_to_newton(temp_celsius):\n",
    "    return temp_celsius * 0.33"
   ]
  },
  {
   "cell_type": "code",
   "execution_count": 5,
   "id": "ee8e2588-f477-4717-bc3a-3ce490df8f5b",
   "metadata": {
    "tags": []
   },
   "outputs": [
    {
     "data": {
      "text/plain": [
       "10.89"
      ]
     },
     "execution_count": 5,
     "metadata": {},
     "output_type": "execute_result"
    }
   ],
   "source": [
    "celsius_to_newton(33)"
   ]
  },
  {
   "cell_type": "code",
   "execution_count": 6,
   "id": "d2c080e1-2687-4f60-b7da-6686c4464cd8",
   "metadata": {
    "tags": []
   },
   "outputs": [
    {
     "data": {
      "text/plain": [
       "33.0"
      ]
     },
     "execution_count": 6,
     "metadata": {},
     "output_type": "execute_result"
    }
   ],
   "source": [
    "celsius_to_newton(100)"
   ]
  },
  {
   "cell_type": "code",
   "execution_count": 7,
   "id": "8f43bb2f-9114-487e-9c1c-a8e19648e23f",
   "metadata": {
    "tags": []
   },
   "outputs": [
    {
     "name": "stdout",
     "output_type": "stream",
     "text": [
      " Volume in drive C is OS\n",
      " Volume Serial Number is 44B3-3C54\n",
      "\n",
      " Directory of C:\\Users\\EvaShek\\Documents\\my-work\\Geo-Python-Class\\Exercise-4\n",
      "\n",
      "05/02/2023  07:16 PM    <DIR>          .\n",
      "05/02/2023  07:16 PM    <DIR>          ..\n",
      "05/02/2023  07:07 PM    <DIR>          .ipynb_checkpoints\n",
      "05/02/2023  05:37 PM             1,643 Lesson-4.ipynb\n",
      "05/02/2023  07:16 PM               293 temperature_conversion.py\n",
      "               2 File(s)          1,936 bytes\n",
      "               3 Dir(s)  199,404,019,712 bytes free\n"
     ]
    }
   ],
   "source": [
    "%ls"
   ]
  },
  {
   "cell_type": "code",
   "execution_count": 9,
   "id": "925bd94e-0f08-47b0-8dcb-c0e7ea3cf653",
   "metadata": {
    "tags": []
   },
   "outputs": [],
   "source": [
    "from temperature_conversion import celsius_to_fahr"
   ]
  },
  {
   "cell_type": "code",
   "execution_count": 10,
   "id": "9184f597-a961-4576-a3ab-862f60260d35",
   "metadata": {
    "tags": []
   },
   "outputs": [
    {
     "name": "stdout",
     "output_type": "stream",
     "text": [
      "The freezing point of water in fahrenheit is 32.0\n"
     ]
    }
   ],
   "source": [
    "print(f\"The freezing point of water in fahrenheit is {celsius_to_fahr(0)}\")"
   ]
  },
  {
   "cell_type": "code",
   "execution_count": 11,
   "id": "c55c6370-50c1-42cc-91ab-76eeae7efc0b",
   "metadata": {
    "tags": []
   },
   "outputs": [],
   "source": [
    "import temperature_conversion as tc"
   ]
  },
  {
   "cell_type": "code",
   "execution_count": 12,
   "id": "c9740ad1-4f20-496e-93cf-de5430121c62",
   "metadata": {
    "tags": []
   },
   "outputs": [
    {
     "name": "stdout",
     "output_type": "stream",
     "text": [
      "The freezing point of water in Fahrenheit is 32.0\n"
     ]
    }
   ],
   "source": [
    "print(f\"The freezing point of water in Fahrenheit is {tc.celsius_to_fahr(0)}\")"
   ]
  },
  {
   "cell_type": "code",
   "execution_count": 13,
   "id": "bc938cd5-d30b-49d8-9809-bf0950918071",
   "metadata": {
    "tags": []
   },
   "outputs": [
    {
     "name": "stdout",
     "output_type": "stream",
     "text": [
      "Absolute zero in Celsius is -273.15\n"
     ]
    }
   ],
   "source": [
    "print(f\"Absolute zero in Celsius is {tc.kelvins_to_celsius(temp_kelvins=0)}\")"
   ]
  },
  {
   "cell_type": "code",
   "execution_count": 14,
   "id": "cafd217e-7d01-452c-b4c8-535d901a4d65",
   "metadata": {
    "tags": []
   },
   "outputs": [
    {
     "name": "stdout",
     "output_type": "stream",
     "text": [
      "Absolute zero in Fahrenheit is -459.66999999999996\n"
     ]
    }
   ],
   "source": [
    "print(f\"Absolute zero in Fahrenheit is {tc.kelvins_to_fahr(temp_kelvins=0)}\")"
   ]
  },
  {
   "cell_type": "code",
   "execution_count": 18,
   "id": "f23c3f73-7202-431a-a16a-0035e6d78f68",
   "metadata": {
    "tags": []
   },
   "outputs": [],
   "source": [
    "temp_kelvin = 30"
   ]
  },
  {
   "cell_type": "code",
   "execution_count": 4,
   "id": "1003568b-f19c-481d-970b-e5733182649a",
   "metadata": {
    "tags": []
   },
   "outputs": [],
   "source": [
    "import temperature_conversion as tc"
   ]
  },
  {
   "cell_type": "code",
   "execution_count": 6,
   "id": "807ec831-b0bb-4190-ac0d-e44258afec75",
   "metadata": {
    "tags": []
   },
   "outputs": [],
   "source": [
    "temp_kelvin = 30"
   ]
  },
  {
   "cell_type": "code",
   "execution_count": 7,
   "id": "17f4c76f-123b-4d71-8834-2d47e4cc89fd",
   "metadata": {
    "tags": []
   },
   "outputs": [],
   "source": [
    "temperature_c = tc.temp_calculator(temp_k=temp_kelvin, convert_to=\"C\")"
   ]
  },
  {
   "cell_type": "code",
   "execution_count": 8,
   "id": "2a1fe673-f487-4228-952e-fbb72ee231d0",
   "metadata": {
    "tags": []
   },
   "outputs": [
    {
     "name": "stdout",
     "output_type": "stream",
     "text": [
      "Temperature 30 in Kelvins is -243.14999999999998 in Celsius\n"
     ]
    }
   ],
   "source": [
    "print(f\"Temperature {temp_kelvin} in Kelvins is {temperature_c} in Celsius\")"
   ]
  },
  {
   "cell_type": "code",
   "execution_count": 9,
   "id": "330c1c24-f635-4257-ae24-188a1406ce20",
   "metadata": {
    "tags": []
   },
   "outputs": [
    {
     "name": "stdout",
     "output_type": "stream",
     "text": [
      "Help on function temp_calculator in module temperature_conversion:\n",
      "\n",
      "temp_calculator(temp_k, convert_to)\n",
      "\n"
     ]
    }
   ],
   "source": [
    "help(tc.temp_calculator)"
   ]
  },
  {
   "cell_type": "code",
   "execution_count": 1,
   "id": "cc2a41f2-506c-459c-9f27-a377f4ce46f6",
   "metadata": {
    "tags": []
   },
   "outputs": [],
   "source": [
    "import temperature_conversion as tc"
   ]
  },
  {
   "cell_type": "code",
   "execution_count": 2,
   "id": "4640e9f3-283c-4148-8637-9115a4d99daa",
   "metadata": {
    "tags": []
   },
   "outputs": [
    {
     "name": "stdout",
     "output_type": "stream",
     "text": [
      "Help on function temp_calculator in module temperature_conversion:\n",
      "\n",
      "temp_calculator(temp_k, convert_to)\n",
      "    Function for converting temperature in Kelvins to Celsius or Fahrenheit.\n",
      "    \n",
      "    Parameters\n",
      "    ----------\n",
      "    temp_k: <numerical>\n",
      "        Temperature in Kelvins\n",
      "    convert_to: <str>\n",
      "        Target temperature that can be either Celsius ('C') or Fahrenheit ('F'). Supported values: 'C' | 'F'\n",
      "    \n",
      "    Returns\n",
      "    -------\n",
      "    <float>\n",
      "        Converted temperature.\n",
      "\n"
     ]
    }
   ],
   "source": [
    "help(tc.temp_calculator)"
   ]
  },
  {
   "cell_type": "code",
   "execution_count": null,
   "id": "a85758ca-fb82-489c-8827-38ac1671990c",
   "metadata": {},
   "outputs": [],
   "source": []
  }
 ],
 "metadata": {
  "kernelspec": {
   "display_name": "Python 3 (ipykernel)",
   "language": "python",
   "name": "python3"
  },
  "language_info": {
   "codemirror_mode": {
    "name": "ipython",
    "version": 3
   },
   "file_extension": ".py",
   "mimetype": "text/x-python",
   "name": "python",
   "nbconvert_exporter": "python",
   "pygments_lexer": "ipython3",
   "version": "3.9.11"
  }
 },
 "nbformat": 4,
 "nbformat_minor": 5
}
