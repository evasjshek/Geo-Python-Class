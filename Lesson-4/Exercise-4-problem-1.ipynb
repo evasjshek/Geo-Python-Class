{
 "cells": [
  {
   "cell_type": "raw",
   "id": "bc564a35-ccba-41c0-8049-2e98b5fa3b8d",
   "metadata": {},
   "source": [
    "https://github.com/Geo-Python-2022/Exercise-4"
   ]
  },
  {
   "cell_type": "raw",
   "id": "d1916d3d-a559-4390-a830-369391204c9f",
   "metadata": {},
   "source": [
    "(1) Creating a function called fahr_to_celsius\n",
    "(2) Defining the function to have one input parameter called temp_fahrenheit\n",
    "(3) Creating a variable called converted_temp inside the function to which you should assign the conversion result (i.e., the input Fahrenheit temperature converted to Celsius)\n",
    "(4)Returning the converted value from the function back to the user\n",
    "(5)Answering some questions about functions at the end of this problem\n",
    "(6)Adding comments in your code and a docstring that explains how to use your fahr_to_celsius function (i.e., you should write the purpose of the function, parameters, and returned values)\n",
    "(7)Uploading your notebook to your GitHub repository for this week's exercise"
   ]
  },
  {
   "cell_type": "raw",
   "id": "e6f1aa70-fd1e-4260-a5fd-b720cffd3eb3",
   "metadata": {},
   "source": [
    "output\n",
    ">>> print(f\"32 degrees Fahrenheit in Celsius is {fahr_to_celsius(32)}\")\n",
    "32 degrees Fahrenheit in Celsius is 0.0"
   ]
  },
  {
   "cell_type": "code",
   "execution_count": 2,
   "id": "98d9395a-9ae2-4f30-ba69-147e2ac1fd34",
   "metadata": {
    "tags": []
   },
   "outputs": [],
   "source": [
    "def fahr_to_celsius(temp_fahrenheit):\n",
    "    converted_temp = (temp_fahrenheit - 32) / 1.8\n",
    "    return converted_temp"
   ]
  },
  {
   "cell_type": "code",
   "execution_count": 9,
   "id": "683694ac-4603-45ef-8599-eea4c6d4f140",
   "metadata": {
    "tags": []
   },
   "outputs": [
    {
     "name": "stdout",
     "output_type": "stream",
     "text": [
      "48 degrees Fahrenheit in Celsius is 8.89\n"
     ]
    }
   ],
   "source": [
    "temp_fahrenheit = 48\n",
    "print(f\"{temp_fahrenheit} degrees Fahrenheit in Celsius is {fahr_to_celsius(temp_fahrenheit):.2f}\") "
   ]
  },
  {
   "cell_type": "code",
   "execution_count": 10,
   "id": "45caa72d-eb1a-48e3-846b-82c2242b5e2e",
   "metadata": {
    "tags": []
   },
   "outputs": [
    {
     "name": "stdout",
     "output_type": "stream",
     "text": [
      "78 degrees Fahrenheit in Celsius is 25.56\n"
     ]
    }
   ],
   "source": [
    "temp_fahrenheit = 78\n",
    "print(f\"{temp_fahrenheit} degrees Fahrenheit in Celsius is {fahr_to_celsius(temp_fahrenheit):.2f}\") "
   ]
  },
  {
   "cell_type": "code",
   "execution_count": 11,
   "id": "5ae9fda7-91fa-4595-afcc-136d7cc32323",
   "metadata": {
    "tags": []
   },
   "outputs": [],
   "source": [
    "import inspect\n",
    "\n",
    "# Check that function exists\n",
    "assert inspect.isfunction(fahr_to_celsius), 'Fahr_to_celsius should be a function.'"
   ]
  },
  {
   "cell_type": "code",
   "execution_count": 12,
   "id": "92d5b179-c31c-4238-ba79-98c67fa0f188",
   "metadata": {
    "tags": []
   },
   "outputs": [],
   "source": [
    "# Check that the function has a single parameter and the parameter name is correct\n",
    "params = list(inspect.signature(fahr_to_celsius).parameters.keys())\n",
    "assert len(params) == 1, 'The function should have one parameter'\n",
    "assert params[0] == 'temp_fahrenheit', 'The parameter name should be \"temp_fahrenheit\".'"
   ]
  },
  {
   "cell_type": "code",
   "execution_count": 13,
   "id": "4c8caa3e-d2d0-4aa6-92a9-ca23c4937553",
   "metadata": {
    "tags": []
   },
   "outputs": [],
   "source": [
    "# Check that the function produces correct answers for:\n",
    "# 1. What is 48° Fahrenheit in Celsius? \n",
    "assert round(fahr_to_celsius(48), 2) == 8.89"
   ]
  },
  {
   "cell_type": "code",
   "execution_count": 14,
   "id": "8546dc09-2fb3-4ffe-8940-28d522bf3a8d",
   "metadata": {
    "tags": []
   },
   "outputs": [],
   "source": [
    "# 2. What about 71° Fahrenheit in Celsius?\n",
    "assert round(fahr_to_celsius(71), 2) == 21.67"
   ]
  },
  {
   "cell_type": "code",
   "execution_count": null,
   "id": "989cd647-ebe7-4748-80fb-7cb843f06878",
   "metadata": {},
   "outputs": [],
   "source": []
  }
 ],
 "metadata": {
  "kernelspec": {
   "display_name": "Python 3 (ipykernel)",
   "language": "python",
   "name": "python3"
  },
  "language_info": {
   "codemirror_mode": {
    "name": "ipython",
    "version": 3
   },
   "file_extension": ".py",
   "mimetype": "text/x-python",
   "name": "python",
   "nbconvert_exporter": "python",
   "pygments_lexer": "ipython3",
   "version": "3.9.11"
  }
 },
 "nbformat": 4,
 "nbformat_minor": 5
}
