{
 "cells": [
  {
   "cell_type": "raw",
   "id": "0b049743-11ec-4a50-b0a0-f734e9563e8d",
   "metadata": {},
   "source": [
    "https://github.com/Geo-Python-2022/Exercise-4/blob/66e271440ce25f1382fa9666513c5c982e30888d//Exercise-4-problem-2.ipynb"
   ]
  },
  {
   "cell_type": "raw",
   "id": "7d501aae-5b7f-43b6-a222-c52815f46bd3",
   "metadata": {},
   "source": [
    "Problem 2 - Temperature classifier (3 points)\n",
    "In Problem 2 of Exercise 3 last week we practiced how to classify temperatures into four different classes: cold, slippery, comfortable, and warm. Let's continue working with the same idea.\n",
    "\n",
    "Here, you should create a function called temp_classifier that accepts a temperature value in Celsius that will be reclassified into integer numbers 0-3 based on following criteria:\n",
    "\n",
    "Return value\tClassification criteria\n",
    "0\tTemperatures below -2 degrees Celsius\n",
    "1\tTemperatures equal or warmer than -2, but less than +2 degrees Celsius\n",
    "2\tTemperatures equal or warmer than +2, but less than +15 degrees Celsius\n",
    "3\tTemperatures equal or warmer than +15 degrees Celsius\n",
    "\n",
    "Your score on this problem will be based on following criteria:\n",
    "\n",
    "(1) Creating a new function called temp_classifier (0.5 points)\n",
    "(2) Defining one parameter called temp_celsius in your temp_classifier function (0.5 points)\n",
    "(3) Reclassifying input temperatures based on the criteria in the above table and returning the reclassified value as an integer number (i.e., 0, 1, 2, or 3) (1 point)\n",
    "(4) Adding comments in your code and a docstring that explains how to use your temp_classifier function (i.e., you should write the purpose of the function, parameters, and returned values) (1 point)\n",
    "(5) Uploading your notebook to your GitHub repository for this week's exercise"
   ]
  },
  {
   "cell_type": "code",
   "execution_count": 11,
   "id": "8a981438-6e25-499f-9e31-edd73209c026",
   "metadata": {
    "tags": []
   },
   "outputs": [],
   "source": [
    "def temp_classifier(temp_celsius):\n",
    "    \"\"\"\n",
    "    Function for classfying temperature into 4 classes returning values 0, 1, 2, 3 depending on the input temperature in Celsius.\n",
    "    \n",
    "    Parameters\n",
    "    ----------\n",
    "    temp_celsius: <numerical>\n",
    "    \n",
    "    Returns\n",
    "    -------\n",
    "    <interger>\n",
    "        classified value\n",
    "    \"\"\"\n",
    "    # Check if the temperature is below negative 2 then return 0\n",
    "    if temp_celsius < -2:\n",
    "        return 0\n",
    "    # Check if the temperature is equal or above negative 2 AND below 2, then return integer 1\n",
    "    elif (temp_celsius >= -2) and (temp_celsius < 2):\n",
    "        return 1\n",
    "    # Check if the temperature is equal or above 2 AND below 15, then return interger 2\n",
    "    elif (temp_celsius >= 2) and (temp_celsius < 15):\n",
    "        return 2\n",
    "    # Check if the temperature is equal or below 15, then return integer 3\n",
    "    elif (temp_celsius >= 15): \n",
    "        return 3"
   ]
  },
  {
   "cell_type": "code",
   "execution_count": 3,
   "id": "a5cc380e-7826-402c-8c6a-c1a38df67b80",
   "metadata": {
    "tags": []
   },
   "outputs": [
    {
     "name": "stdout",
     "output_type": "stream",
     "text": [
      "3\n"
     ]
    }
   ],
   "source": [
    "# 1. What is the class value for 16.5 degrees Celsius?\n",
    "print(temp_classifier(16.5))"
   ]
  },
  {
   "cell_type": "code",
   "execution_count": 4,
   "id": "dedc0837-f6b6-4234-8365-1e05a6d9fa75",
   "metadata": {
    "tags": []
   },
   "outputs": [
    {
     "name": "stdout",
     "output_type": "stream",
     "text": [
      "2\n"
     ]
    }
   ],
   "source": [
    "# 2. What is the class value for +2 degrees Celsius?\n",
    "print(temp_classifier(+2))"
   ]
  },
  {
   "cell_type": "code",
   "execution_count": 5,
   "id": "5b2346b9-1e6f-4d66-8047-9952acbe39f3",
   "metadata": {
    "tags": []
   },
   "outputs": [],
   "source": [
    "import inspect\n",
    "\n",
    "# Check that function exists\n",
    "assert inspect.isfunction(temp_classifier)"
   ]
  },
  {
   "cell_type": "code",
   "execution_count": 6,
   "id": "15912650-cb0f-4aec-8c87-f2debc92522b",
   "metadata": {
    "tags": []
   },
   "outputs": [],
   "source": [
    "# Check that the function has a single parameter and the pamameter name is correct\n",
    "params = list(inspect.signature(temp_classifier).parameters.keys())\n",
    "assert len(params) == 1\n",
    "assert params[0] == 'temp_celsius'"
   ]
  },
  {
   "cell_type": "code",
   "execution_count": 7,
   "id": "e8af7e6e-8d04-42ac-8e2f-eb464fa409fc",
   "metadata": {
    "tags": []
   },
   "outputs": [
    {
     "name": "stdout",
     "output_type": "stream",
     "text": [
      "ok :)\n"
     ]
    }
   ],
   "source": [
    "# 1. What is the class value for 16.5 degrees (Celsius)?\n",
    "assert temp_classifier(16.5) == 3, 'Wrong class'\n",
    "print(\"ok :)\")"
   ]
  },
  {
   "cell_type": "code",
   "execution_count": 8,
   "id": "2a5734fc-cf88-4519-a5a2-888cc0b2fb68",
   "metadata": {
    "tags": []
   },
   "outputs": [
    {
     "name": "stdout",
     "output_type": "stream",
     "text": [
      "ok :)\n"
     ]
    }
   ],
   "source": [
    "# 3. What is the class value for +1 degrees (Celsius)?\n",
    "assert temp_classifier(1) == 1, 'Wrong class'\n",
    "print(\"ok :)\")"
   ]
  },
  {
   "cell_type": "code",
   "execution_count": 9,
   "id": "df086438-54a9-4ce6-938c-05ab6ab44f27",
   "metadata": {
    "tags": []
   },
   "outputs": [
    {
     "name": "stdout",
     "output_type": "stream",
     "text": [
      "ok :)\n"
     ]
    }
   ],
   "source": [
    "# 4. What is the class value for -5 degrees (Celsius)?\n",
    "assert temp_classifier(-5) == 0, 'Wrong class'\n",
    "print(\"ok :)\")"
   ]
  },
  {
   "cell_type": "code",
   "execution_count": null,
   "id": "3a254915-f0cd-498f-ba00-8a54ada2c844",
   "metadata": {},
   "outputs": [],
   "source": []
  }
 ],
 "metadata": {
  "kernelspec": {
   "display_name": "Python 3 (ipykernel)",
   "language": "python",
   "name": "python3"
  },
  "language_info": {
   "codemirror_mode": {
    "name": "ipython",
    "version": 3
   },
   "file_extension": ".py",
   "mimetype": "text/x-python",
   "name": "python",
   "nbconvert_exporter": "python",
   "pygments_lexer": "ipython3",
   "version": "3.9.11"
  }
 },
 "nbformat": 4,
 "nbformat_minor": 5
}
