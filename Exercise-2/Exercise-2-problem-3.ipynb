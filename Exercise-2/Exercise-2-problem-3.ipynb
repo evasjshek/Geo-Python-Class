{
 "cells": [
  {
   "cell_type": "raw",
   "id": "c3fa0ba1-fd96-4290-80d1-abeaa8929db4",
   "metadata": {},
   "source": [
    "Part 1 - Questions about this week's lesson (1 point)\n",
    "Please use Markdown to give your responses to the three questions below about this week's lesson.\n",
    "\n",
    "What did you learn?\n",
    "What was unclear?\n",
    "What would you change about the lesson?\n",
    "Please use a Markdown list when answering these questions."
   ]
  },
  {
   "cell_type": "raw",
   "id": "53574f2e-13c4-4d4e-952a-cbb89e042301",
   "metadata": {},
   "source": [
    "Basic writing and formatting syntax\n",
    "https://docs.github.com/en/get-started/writing-on-github/getting-started-with-writing-and-formatting-on-github/basic-writing-and-formatting-syntax"
   ]
  },
  {
   "cell_type": "markdown",
   "id": "8f4ebd92-cb3c-4bec-a5cc-71cd20d18989",
   "metadata": {},
   "source": [
    "### What did you learn?\n",
    "*In Lession 2, i have learned list function version control/ source control managment (SCM) using git and github*\n",
    "\n",
    "### What was unclear?\n",
    "*setting up git and github with jupyterlab is not very clear. Need to look for more background information about git and how to work with github abd jupyterLab*\n",
    "\n",
    "### What would you change about the lesson?\n",
    "*talk more about git and github with detailed step-by-step instruction how to get those thing work*\n"
   ]
  },
  {
   "cell_type": "markdown",
   "id": "09cdda4e-3ce4-4e78-ae1b-032ddf8a1213",
   "metadata": {},
   "source": [
    "Part 2 - Adding an image (1 point)\n",
    "Just for fun, add an image of an animal that you like along with a short caption giving its name and anything special you might like to add.\n",
    "\n",
    "You can add an image using a URL, or (if you are looking for a challenge) by uploading an image to your GitHub repository and linking that image file to this notebook.\n",
    "\n",
    "We suggest that you search for images in a repository that includes licencing information such as Wikimedia Commons or Pixabay. You are, of course, also welcome to upload your own animal images."
   ]
  },
  {
   "cell_type": "markdown",
   "id": "476fa4c7-aefc-4ea8-8a70-6f11152d9333",
   "metadata": {},
   "source": [
    "https://pixabay.com/photos/animal-hedgehog-pet-mammal-species-468228/"
   ]
  },
  {
   "cell_type": "markdown",
   "id": "b2b15ce6-0db1-41de-b87d-964cf5f4c824",
   "metadata": {},
   "source": [
    "the image is accredited by pixabay CC0"
   ]
  }
 ],
 "metadata": {
  "kernelspec": {
   "display_name": "Python 3 (ipykernel)",
   "language": "python",
   "name": "python3"
  },
  "language_info": {
   "codemirror_mode": {
    "name": "ipython",
    "version": 3
   },
   "file_extension": ".py",
   "mimetype": "text/x-python",
   "name": "python",
   "nbconvert_exporter": "python",
   "pygments_lexer": "ipython3",
   "version": "3.9.11"
  }
 },
 "nbformat": 4,
 "nbformat_minor": 5
}
