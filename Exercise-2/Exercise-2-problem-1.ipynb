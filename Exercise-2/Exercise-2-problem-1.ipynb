{
 "cells": [
  {
   "cell_type": "raw",
   "id": "9ea1243d-5de0-4799-9665-3203b92d40f5",
   "metadata": {},
   "source": [
    "https://github.com/Geo-Python-2022/Exercise-2/blob/main/Exercise-2.ipynb"
   ]
  },
  {
   "cell_type": "raw",
   "id": "f03957bc-3cb6-4df8-a2df-2d179aa7b097",
   "metadata": {},
   "source": [
    "Task\n",
    "- create a list of FMI observation stations and the years in which they began operating.\n",
    "- sort the lists such that the newest station is first in the list of operation years.\n",
    "\n",
    "FMI station name         First year of operation\n",
    "lighthouse\t               2003\n",
    "Harmaja                    1989\n",
    "Suomenlinna aaltopoiju\t   2016\n",
    "Kumpula\t                   2005\n",
    "Kaisaniemi\t               1844\n",
    "\n",
    "(1)Creating two lists for the FMI station names and years in which they began operating\n",
    "(2) Adding the second set of stations and operation years to your lists\n",
    "(3) Sorting the lists as directed\n",
    "(4) Committing each change separately using Git, and pushing the changes to GitHub\n",
    "(5) Listing the changes you needed to make to get the code working in plain English by modifying the existing text or adding a Markdown cell above each change"
   ]
  },
  {
   "cell_type": "raw",
   "id": "4036b17c-549d-499c-be4c-75693ca75d86",
   "metadata": {},
   "source": [
    "Part 1 - Creating the list"
   ]
  },
  {
   "cell_type": "code",
   "execution_count": 40,
   "id": "b73dd969-d02a-4f7a-ac3c-d6ef45c3a5d7",
   "metadata": {
    "tags": []
   },
   "outputs": [],
   "source": [
    "station_names = [\"lighthouse\", \"Harmaja\", \"Suomenlinna aaltopoiju\", \"Kumpula\", \"Kaisaniemi\"]"
   ]
  },
  {
   "cell_type": "code",
   "execution_count": 41,
   "id": "1bb77533-81fc-406b-a4b6-603929ea87c7",
   "metadata": {
    "tags": []
   },
   "outputs": [],
   "source": [
    "station_start_years = [2003, 1989, 2016, 2005, 1844]"
   ]
  },
  {
   "cell_type": "code",
   "execution_count": 5,
   "id": "9b2ce0c5-0338-4ab4-8743-0d18925efcf7",
   "metadata": {
    "tags": []
   },
   "outputs": [],
   "source": [
    "# This is a test cell that checks that the list lengths are correct\n",
    "# Running this cell should not produce any errors\n",
    "assert len(station_names) == 5, 'The station_names list should have 5 items.'\n",
    "assert len(station_start_years) == 5, 'The station_start_years list should have 5 items.'"
   ]
  },
  {
   "cell_type": "code",
   "execution_count": 8,
   "id": "014592e6-439d-44ec-a823-d1218bf78cba",
   "metadata": {
    "tags": []
   },
   "outputs": [],
   "source": [
    "# This is a test cell that checks that the first item in the lists is correct\n",
    "# Running this cell should not produce any errors\n",
    "assert station_names[0] == 'lighthouse', 'The first item in the station_names list should be \"lighthouse\"'\n",
    "assert station_start_years[0] == 2003, 'The first item in the station_start_years list should be 2003'"
   ]
  },
  {
   "cell_type": "raw",
   "id": "bb108c99-d3fd-472d-ab17-90638916d590",
   "metadata": {},
   "source": [
    "Part 2 - Modifying the lists "
   ]
  },
  {
   "cell_type": "code",
   "execution_count": 23,
   "id": "3ae72593-3712-4049-97f7-43d320ced716",
   "metadata": {
    "tags": []
   },
   "outputs": [
    {
     "data": {
      "text/plain": [
       "['lighthouse', 'Harmaja', 'Suomenlinna aaltopoiju', 'Kumpula', 'Kaisaniemi']"
      ]
     },
     "execution_count": 23,
     "metadata": {},
     "output_type": "execute_result"
    }
   ],
   "source": [
    "station_names"
   ]
  },
  {
   "cell_type": "code",
   "execution_count": 42,
   "id": "7be8648f-325a-476f-9645-1a6173e7bf2b",
   "metadata": {
    "tags": []
   },
   "outputs": [],
   "source": [
    "new_stations = [\"Malmi airfield\", \"Vuosaari harbour\", \"Kaivopuisto\"]\n",
    "station_names.extend(new_stations)"
   ]
  },
  {
   "cell_type": "code",
   "execution_count": 43,
   "id": "f918a2ab-35c9-4d16-a0b8-c688077955f9",
   "metadata": {
    "tags": []
   },
   "outputs": [
    {
     "name": "stdout",
     "output_type": "stream",
     "text": [
      "['lighthouse', 'Harmaja', 'Suomenlinna aaltopoiju', 'Kumpula', 'Kaisaniemi', 'Malmi airfield', 'Vuosaari harbour', 'Kaivopuisto']\n"
     ]
    }
   ],
   "source": [
    "print(station_names)"
   ]
  },
  {
   "cell_type": "code",
   "execution_count": 44,
   "id": "adaaf32b-183d-4e57-94d5-0b2ab15693fb",
   "metadata": {
    "tags": []
   },
   "outputs": [
    {
     "name": "stdout",
     "output_type": "stream",
     "text": [
      "[2003, 1989, 2016, 2005, 1844, 1937, 2012, 1904]\n"
     ]
    }
   ],
   "source": [
    "new_station_start_years = [1937, 2012, 1904]\n",
    "station_start_years.extend(new_station_start_years)\n",
    "print(station_start_years)"
   ]
  },
  {
   "cell_type": "code",
   "execution_count": 28,
   "id": "fed28bf3-e439-4439-acb5-3e8a7241e8fa",
   "metadata": {
    "tags": []
   },
   "outputs": [],
   "source": [
    "# This is a test cell that checks that the list lengths are correct\n",
    "# Running this cell should not produce any errors\n",
    "assert len(station_names) == 8, 'The station_names list should have 8 items.'\n",
    "assert len(station_start_years) == 8, 'The station_start_years list should have 8 items.'"
   ]
  },
  {
   "cell_type": "code",
   "execution_count": 29,
   "id": "7d01feef-1cb9-48ee-a0bb-2cc034d0d37b",
   "metadata": {
    "tags": []
   },
   "outputs": [],
   "source": [
    "# This is a test cell that checks that the last item in the lists is correct\n",
    "# Running this cell should not produce any errors\n",
    "assert station_names[-1] == 'Kaivopuisto', 'The last item in the station_names list should be \"Kaivopuisto\"'\n",
    "assert station_start_years[-1] == 1904, 'The last item in the station_start_years list should be 1904'"
   ]
  },
  {
   "cell_type": "raw",
   "id": "7f7d042e-db1d-48a1-ad71-767b4809aa1b",
   "metadata": {},
   "source": [
    "Part 3 - Sorting the lists\n",
    "The station_names list should be sorted so the stations are in alphabetical order\n",
    "The station_start_years list should be sorted so that the most recent station starting year is first in the list"
   ]
  },
  {
   "cell_type": "code",
   "execution_count": 33,
   "id": "b9475616-dab6-430f-8ac0-b1d9eb6f6554",
   "metadata": {
    "tags": []
   },
   "outputs": [
    {
     "name": "stdout",
     "output_type": "stream",
     "text": [
      "['Harmaja', 'Kaisaniemi', 'Kaivopuisto', 'Kumpula', 'Malmi airfield', 'Suomenlinna aaltopoiju', 'Vuosaari harbour', 'lighthouse']\n"
     ]
    }
   ],
   "source": [
    "station_names.sort()\n",
    "print(station_names)"
   ]
  },
  {
   "cell_type": "code",
   "execution_count": 36,
   "id": "3f24d7ab-59a8-4568-965d-a1085df1eed0",
   "metadata": {
    "tags": []
   },
   "outputs": [
    {
     "name": "stdout",
     "output_type": "stream",
     "text": [
      "[2016, 2012, 2005, 2003, 1989, 1937, 1904, 1844]\n"
     ]
    }
   ],
   "source": [
    "station_start_years.sort(reverse = True)\n",
    "print(station_start_years)"
   ]
  },
  {
   "cell_type": "code",
   "execution_count": 37,
   "id": "f58e0d56-af8e-4679-be5e-e003f72fe770",
   "metadata": {
    "tags": []
   },
   "outputs": [],
   "source": [
    "# This is a test cell that checks that the last item in the lists is correct\n",
    "# Running this cell should not produce any errors\n",
    "assert station_names[0] == 'Harmaja', 'The first item in the station_names list should be \"Harmaja\"'\n",
    "assert station_start_years[0] == 2016, 'The first item in the station_start_years list should be 2016'"
   ]
  },
  {
   "cell_type": "raw",
   "id": "4a0eb185-418a-4067-b58c-928a2fa2e0f1",
   "metadata": {},
   "source": [
    "Part 4 \n",
    "- one of the problem when sorting the station list is some station names are in upper case and some in lower case. Upper case has priority over lower case name therefore, for instance, station name \"lighthouse\" is being sort after station name \"Suomenlinna aaltopoiju\"\n",
    "- another problem is when sorting both list seperately, the name and the start year won't match"
   ]
  },
  {
   "cell_type": "raw",
   "id": "757ef69c-3bff-4ded-b4e0-596d9c484130",
   "metadata": {},
   "source": [
    "Part 5 - Python + Google (optional, 0 points)\n",
    "Python has a function called zip() that might be helpful in solving the issue mentioned in Part 4. If you like, you're free to do some Googling and see whether you can figure out how to use the zip() function to ensure that the station data is consistent for both lists when sorting the station starting years in reverse order. This is a completely optional task."
   ]
  },
  {
   "cell_type": "code",
   "execution_count": 46,
   "id": "f9b78387-44e4-4aa0-af2d-87a62fa4bbd7",
   "metadata": {
    "tags": []
   },
   "outputs": [
    {
     "name": "stdout",
     "output_type": "stream",
     "text": [
      "(('lighthouse', 2003), ('Harmaja', 1989), ('Suomenlinna aaltopoiju', 2016), ('Kumpula', 2005), ('Kaisaniemi', 1844), ('Malmi airfield', 1937), ('Vuosaari harbour', 2012), ('Kaivopuisto', 1904))\n"
     ]
    }
   ],
   "source": [
    "x = zip(station_names, station_start_years)\n",
    "print(tuple(x))"
   ]
  },
  {
   "cell_type": "code",
   "execution_count": 57,
   "id": "fcd0be8e-59a9-4622-8c69-bc9d6762f625",
   "metadata": {
    "tags": []
   },
   "outputs": [
    {
     "name": "stdout",
     "output_type": "stream",
     "text": [
      "['Harmaja', 'Kaisaniemi', 'Kaivopuisto', 'Kumpula', 'Malmi airfield', 'Suomenlinna aaltopoiju', 'Vuosaari harbour', 'lighthouse']\n",
      "[1989, 1844, 1904, 2005, 1937, 2016, 2012, 2003]\n"
     ]
    }
   ],
   "source": [
    "station_names_sorted, station_start_years_sorted = zip(*sorted(zip(station_names, station_start_years)))\n",
    "st_n = list(station_names_sorted)\n",
    "st_y = list(station_start_years_sorted)\n",
    "print(st_n, st_y, sep='\\n')"
   ]
  },
  {
   "cell_type": "raw",
   "id": "f669421d-5483-4d27-ae9c-7e73daf6e27b",
   "metadata": {},
   "source": [
    "https://www.geeksforgeeks.org/python-sort-values-first-list-using-second-list/"
   ]
  },
  {
   "cell_type": "code",
   "execution_count": 47,
   "id": "8b6f2dcf-7970-4bf7-80b9-6121bc3fa574",
   "metadata": {
    "tags": []
   },
   "outputs": [
    {
     "name": "stdout",
     "output_type": "stream",
     "text": [
      "[0, 1, 2]\n",
      "['a', 'd', 'h', 'b', 'c', 'e', 'i', 'f', 'g']\n"
     ]
    }
   ],
   "source": [
    "list1 = [\"a\", \"b\", \"c\", \"d\", \"e\", \"f\", \"g\", \"h\", \"i\"]\n",
    "list2 = [0, 1, 1, 0, 1, 2, 2, 0, 1]\n",
    "a = list(set(list2))\n",
    "a.sort()\n",
    "print(a)\n",
    "\n",
    "res = []\n",
    "for i in a:\n",
    "    for j in range(0, len(list2)):\n",
    "        if(list2[j] == i):\n",
    "            res.append(list1[j])\n",
    "print(res)"
   ]
  },
  {
   "cell_type": "code",
   "execution_count": null,
   "id": "861b45d8-357e-4a2a-b9b9-275417c79746",
   "metadata": {},
   "outputs": [],
   "source": []
  }
 ],
 "metadata": {
  "kernelspec": {
   "display_name": "Python 3 (ipykernel)",
   "language": "python",
   "name": "python3"
  },
  "language_info": {
   "codemirror_mode": {
    "name": "ipython",
    "version": 3
   },
   "file_extension": ".py",
   "mimetype": "text/x-python",
   "name": "python",
   "nbconvert_exporter": "python",
   "pygments_lexer": "ipython3",
   "version": "3.9.11"
  }
 },
 "nbformat": 4,
 "nbformat_minor": 5
}
