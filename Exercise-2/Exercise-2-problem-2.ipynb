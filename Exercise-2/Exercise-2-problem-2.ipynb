{
 "cells": [
  {
   "cell_type": "raw",
   "id": "ddbeee93-83b1-46e6-a069-b970a191b528",
   "metadata": {},
   "source": [
    "Problem 2 - Accessing monthly average temperatures (5 points)\n",
    "The table below presents monthly average temperatures recorded at the Helsinki Malmi airport.\n",
    "\n",
    "Month\tTemperature [°C]\n",
    "January\t-3.5\n",
    "February\t-4.5\n",
    "March\t-1.0\n",
    "April\t4.0\n",
    "May\t10.0\n",
    "June\t15.0\n",
    "July\t18.0\n",
    "August\t16.0\n",
    "September\t11.5\n",
    "October\t6.0\n",
    "November\t2.0\n",
    "December\t-1.5\n",
    "In the code cells below, write some Python code that allows users to select a month and have the monthly average temperature printed to the screen. For example, your code should display the following for the month of March:\n",
    "\n",
    "The average temperature in Helsinki in March is -1.0"
   ]
  },
  {
   "cell_type": "code",
   "execution_count": null,
   "id": "e4d42ac5-2ddf-4838-9c53-ad47397f4291",
   "metadata": {},
   "outputs": [],
   "source": [
    "selected_month_index = []"
   ]
  }
 ],
 "metadata": {
  "kernelspec": {
   "display_name": "Python 3 (ipykernel)",
   "language": "python",
   "name": "python3"
  },
  "language_info": {
   "codemirror_mode": {
    "name": "ipython",
    "version": 3
   },
   "file_extension": ".py",
   "mimetype": "text/x-python",
   "name": "python",
   "nbconvert_exporter": "python",
   "pygments_lexer": "ipython3",
   "version": "3.9.11"
  }
 },
 "nbformat": 4,
 "nbformat_minor": 5
}
