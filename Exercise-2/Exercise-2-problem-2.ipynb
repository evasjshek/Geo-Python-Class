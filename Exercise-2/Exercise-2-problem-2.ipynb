{
 "cells": [
  {
   "cell_type": "raw",
   "id": "ddbeee93-83b1-46e6-a069-b970a191b528",
   "metadata": {},
   "source": [
    "Problem 2 - Accessing monthly average temperatures (5 points)\n",
    "The table below presents monthly average temperatures recorded at the Helsinki Malmi airport.\n",
    "\n",
    "Month\tTemperature [°C]\n",
    "January\t-3.5\n",
    "February\t-4.5\n",
    "March\t-1.0\n",
    "April\t4.0\n",
    "May\t10.0\n",
    "June\t15.0\n",
    "July\t18.0\n",
    "August\t16.0\n",
    "September\t11.5\n",
    "October\t6.0\n",
    "November\t2.0\n",
    "December\t-1.5\n",
    "In the code cells below, write some Python code that allows users to select a month and have the monthly average temperature printed to the screen. For example, your code should display the following for the month of March:\n",
    "\n",
    "The average temperature in Helsinki in March is -1.0\n",
    "\n"
   ]
  },
  {
   "cell_type": "code",
   "execution_count": 18,
   "id": "e4d42ac5-2ddf-4838-9c53-ad47397f4291",
   "metadata": {},
   "outputs": [],
   "source": [
    "selected_month_index = 6"
   ]
  },
  {
   "cell_type": "code",
   "execution_count": 19,
   "id": "483c4956-ce87-484b-9f51-073b0523c267",
   "metadata": {
    "tags": []
   },
   "outputs": [],
   "source": [
    "months = [\"January\", \"February\", \"March\", \"April\", \"May\", \"June\", \"July\", \"August\", \"September\", \"October\", \"November\", \"December\"]"
   ]
  },
  {
   "cell_type": "code",
   "execution_count": 20,
   "id": "de7b3a96-e9ae-4a16-86cf-9494fe288643",
   "metadata": {
    "tags": []
   },
   "outputs": [],
   "source": [
    "average_temp = [-3.5, -4.5, -1.0, 4.0, 10.0, 15.0, 18.0, 16.0, 11.5, 6.0, 2.0, -1.5]"
   ]
  },
  {
   "cell_type": "code",
   "execution_count": 27,
   "id": "02dd4108-d1a3-44f6-8032-e03c7f922d6c",
   "metadata": {
    "tags": []
   },
   "outputs": [],
   "source": [
    "print_statement = f\"The average temperature in Helsinki in {months[selected_month_index]} is {average_temp[selected_month_index]}\""
   ]
  },
  {
   "cell_type": "code",
   "execution_count": 23,
   "id": "5612df83-a748-4cf6-a5b0-3578ea8bbe96",
   "metadata": {
    "tags": []
   },
   "outputs": [
    {
     "name": "stdout",
     "output_type": "stream",
     "text": [
      "The average temperature in Helsinki in July is 18.0.\n"
     ]
    }
   ],
   "source": [
    "print(print_statement)"
   ]
  },
  {
   "cell_type": "code",
   "execution_count": 24,
   "id": "f985559f-fa32-4e4f-b0eb-69c3c5d87366",
   "metadata": {
    "tags": []
   },
   "outputs": [],
   "source": [
    "# Check that the two lists have lengths of 12\n",
    "assert len(months) == 12, 'Wrong length!'\n",
    "assert len(average_temp) == 12, 'Wrong length!'"
   ]
  },
  {
   "cell_type": "code",
   "execution_count": 25,
   "id": "1aec004d-5a8f-4dcd-ad81-a3925bff7094",
   "metadata": {
    "tags": []
   },
   "outputs": [],
   "source": [
    "# Check that that the month and average_temp variables are lists\n",
    "assert isinstance(months, list), 'Variable months is not a list'\n",
    "assert isinstance(average_temp, list), 'Variable average_temp is not a list'"
   ]
  },
  {
   "cell_type": "code",
   "execution_count": 28,
   "id": "e43b6abb-8257-463f-83f0-e69979eb2387",
   "metadata": {
    "tags": []
   },
   "outputs": [],
   "source": [
    "# Check that the print statement is correct;\n",
    "# Set selected_month_index to correspond with July before running this cell.\n",
    "# Note! Your code should work with any of the 12 months!\n",
    "assert print_statement == 'The average temperature in Helsinki in July is 18.0'"
   ]
  },
  {
   "cell_type": "code",
   "execution_count": null,
   "id": "f6bba7b5-da76-4e59-81fd-18f5ba3c3168",
   "metadata": {},
   "outputs": [],
   "source": []
  }
 ],
 "metadata": {
  "kernelspec": {
   "display_name": "Python 3 (ipykernel)",
   "language": "python",
   "name": "python3"
  },
  "language_info": {
   "codemirror_mode": {
    "name": "ipython",
    "version": 3
   },
   "file_extension": ".py",
   "mimetype": "text/x-python",
   "name": "python",
   "nbconvert_exporter": "python",
   "pygments_lexer": "ipython3",
   "version": "3.9.11"
  }
 },
 "nbformat": 4,
 "nbformat_minor": 5
}
