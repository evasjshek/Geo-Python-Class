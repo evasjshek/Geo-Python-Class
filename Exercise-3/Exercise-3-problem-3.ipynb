{
 "cells": [
  {
   "cell_type": "raw",
   "id": "5ea79329-39ea-4eae-a573-36d15a69942a",
   "metadata": {},
   "source": [
    "https://github.com/Geo-Python-2022/Exercise-3/blob/261470da365c37eccdba10061a87fedd60793073/Exercise-3-problem-3.ipynb"
   ]
  },
  {
   "cell_type": "raw",
   "id": "53c367be-c917-4ef8-8b36-5daa414f7271",
   "metadata": {},
   "source": [
    "Creating four lists for geographical zones in Finland (i.e. nort_west, north_east, south_west, south_east)\n",
    "\n",
    "Iterating over the values and determining to which geographical zone the station belongs\n",
    "  Hint: You should create a loop that iterates n times. Create a variable n that should contain the number of stations we   have here.\n",
    "  (1)You should use a conditional statement to find out if the latitude coordinate of a station is either North or South\n",
    "  of the center point of Finland (26.3, 64.5) AND if the longitude location is West or East of that center point.\n",
    "  (2)You should insert the name of the station into the correct geographical zone list\n",
    "\n",
    "Printing out the names of stations in each geographical zone\n",
    "\n",
    "# Station names\n",
    "stations = ['Hanko Russarö', 'Heinola Asemantaus', 'Helsinki Kaisaniemi', \n",
    "            'Helsinki Malmi airfield', 'Hyvinkää Hyvinkäänkylä', 'Joutsa Savenaho', \n",
    "            'Juuka Niemelä', 'Jyväskylä airport', 'Kaarina Yltöinen', 'Kauhava airfield', \n",
    "            'Kemi Kemi-Tornio airport', 'Kotka Rankki', 'Kouvola Anjala', \n",
    "            'Kouvola Utti airport', 'Kuopio Maaninka', 'Kuusamo airport', \n",
    "            'Lieksa Lampela', 'Mustasaari Valassaaret', 'Parainen Utö', 'Pori airport', \n",
    "            'Rovaniemi Apukka', 'Salo Kärkkä', 'Savonlinna Punkaharju Laukansaari', \n",
    "            'Seinäjoki Pelmaa', 'Siikajoki Ruukki', 'Siilinjärvi Kuopio airport', \n",
    "            'Tohmajärvi Kemie', 'Utsjoki Nuorgam', 'Vaala Pelso', 'Vaasa airport', \n",
    "            'Vesanto Sonkari', 'Vieremä Kaarakkala', 'Vihti Maasoja', 'Ylitornio Meltosjärvi']\n"
   ]
  },
  {
   "cell_type": "code",
   "execution_count": 16,
   "id": "c7c3be44-efa3-46cc-869e-65ee9ba99753",
   "metadata": {
    "tags": []
   },
   "outputs": [],
   "source": [
    "north_west = []\n",
    "north_east = []\n",
    "south_west = []\n",
    "south_east = []"
   ]
  },
  {
   "cell_type": "raw",
   "id": "6fac5758-26ad-4be4-a1d1-cbabac0b6454",
   "metadata": {},
   "source": [
    "# Station names\n",
    "stations = ['Hanko Russarö', 'Heinola Asemantaus', 'Helsinki Kaisaniemi', \n",
    "            'Helsinki Malmi airfield', 'Hyvinkää Hyvinkäänkylä', 'Joutsa Savenaho', \n",
    "            'Juuka Niemelä', 'Jyväskylä airport', 'Kaarina Yltöinen', 'Kauhava airfield', \n",
    "            'Kemi Kemi-Tornio airport', 'Kotka Rankki', 'Kouvola Anjala', \n",
    "            'Kouvola Utti airport', 'Kuopio Maaninka', 'Kuusamo airport', \n",
    "            'Lieksa Lampela', 'Mustasaari Valassaaret', 'Parainen Utö', 'Pori airport', \n",
    "            'Rovaniemi Apukka', 'Salo Kärkkä', 'Savonlinna Punkaharju Laukansaari', \n",
    "            'Seinäjoki Pelmaa', 'Siikajoki Ruukki', 'Siilinjärvi Kuopio airport', \n",
    "            'Tohmajärvi Kemie', 'Utsjoki Nuorgam', 'Vaala Pelso', 'Vaasa airport', \n",
    "            'Vesanto Sonkari', 'Vieremä Kaarakkala', 'Vihti Maasoja', 'Ylitornio Meltosjärvi']\n",
    "\n",
    "# Latitude coordinates of Weather stations  \n",
    "lats = [59.77, 61.2, 60.18, 60.25, 60.6, 61.88, 63.23, 62.4,\n",
    "       60.39, 63.12, 65.78, 60.38, 60.7, 60.9, 63.14, 65.99,\n",
    "       63.32, 63.44, 59.78, 61.47, 66.58, 60.37, 61.8, 62.94,\n",
    "       64.68, 63.01, 62.24, 70.08, 64.501, 63.06, 62.92, 63.84,\n",
    "       60.42, 66.53]\n",
    "\n",
    "# Longitude coordinates of Weather stations \n",
    "lons = [22.95, 26.05, 24.94, 25.05, 24.8, 26.09, 29.23, 25.67, \n",
    "       22.55, 23.04, 24.58, 26.96, 26.81, 26.95, 27.31, 29.23, \n",
    "       30.05, 21.07, 21.37, 21.79, 26.01, 23.11, 29.32, 22.49, \n",
    "       25.09, 27.8, 30.35, 27.9, 26.42, 21.75, 26.42, 27.22, \n",
    "       24.4, 24.65]\n",
    "\n",
    "# Cutoff values that correspond to the centroid of Finnish mainland\n",
    "# North - South\n",
    "north_south_cutoff = 64.5\n",
    "\n",
    "# East-West\n",
    "east_west_cutoff = 26.3\n",
    "\n",
    "NW: (lats > 64.5) and (lons < 26.3)\n",
    "NE: (lats > 64.5) and (lons > 26.3)\n",
    "SW: (lats < 64.5) and (lons < 26.3)\n",
    "SE: (lats < 64.5) and (lons > 26.3)"
   ]
  },
  {
   "cell_type": "code",
   "execution_count": 17,
   "id": "8fb5f68a-a347-44f6-a607-76f073ec3d02",
   "metadata": {
    "tags": []
   },
   "outputs": [
    {
     "name": "stdout",
     "output_type": "stream",
     "text": [
      "The names of the Northwest stations are:\n",
      "['Kemi Kemi-Tornio airport', 'Rovaniemi Apukka', 'Siikajoki Ruukki', 'Ylitornio Meltosjärvi']\n",
      "The names of the Northeast stations are:\n",
      "['Kuusamo airport', 'Utsjoki Nuorgam', 'Vaala Pelso']\n",
      "The names of the Southwest stations are:\n",
      "['Hanko Russarö', 'Heinola Asemantaus', 'Helsinki Kaisaniemi', 'Helsinki Malmi airfield', 'Hyvinkää Hyvinkäänkylä', 'Joutsa Savenaho', 'Jyväskylä airport', 'Kaarina Yltöinen', 'Kauhava airfield', 'Mustasaari Valassaaret', 'Parainen Utö', 'Pori airport', 'Salo Kärkkä', 'Seinäjoki Pelmaa', 'Vaasa airport', 'Vihti Maasoja']\n",
      "The names of the Southeast stations are:\n",
      "['Hanko Russarö', 'Heinola Asemantaus', 'Helsinki Kaisaniemi', 'Helsinki Malmi airfield', 'Hyvinkää Hyvinkäänkylä', 'Joutsa Savenaho', 'Jyväskylä airport', 'Kaarina Yltöinen', 'Kauhava airfield', 'Mustasaari Valassaaret', 'Parainen Utö', 'Pori airport', 'Salo Kärkkä', 'Seinäjoki Pelmaa', 'Vaasa airport', 'Vihti Maasoja']\n"
     ]
    }
   ],
   "source": [
    " for i in range(len(stations)):\n",
    "        if (lats[i] > 64.5) and (lons[i] < 26.3):\n",
    "            north_west.append(stations[i])\n",
    "        elif (lats[i] > 64.5) and (lons[i] > 26.3):\n",
    "            north_east.append(stations[i])\n",
    "        elif (lats[i] < 64.5) and (lons[i] < 26.3):\n",
    "            south_west.append(stations[i])\n",
    "        elif (lats[i] < 64.5) and (lons[i] > 26.3):\n",
    "            south_east.append(stations[i])\n",
    "            \n",
    "print(f\"The names of the Northwest stations are:\\n{north_west}\")\n",
    "print(f\"The names of the Northeast stations are:\\n{north_east}\")\n",
    "print(f\"The names of the Southwest stations are:\\n{south_west}\")\n",
    "print(f\"The names of the Southeast stations are:\\n{south_west}\")"
   ]
  },
  {
   "cell_type": "markdown",
   "id": "0164f170-cc0b-45e8-ae08-4c58dcd27fcb",
   "metadata": {},
   "source": [
    "Print the percentage of stations in each geographical zone\n",
    "Store the answers into variables:\n",
    "(1) north_west_share\n",
    "(2) north_east_share\n",
    "(3) south_west_share\n",
    "(4) south_east_share"
   ]
  },
  {
   "cell_type": "code",
   "execution_count": 18,
   "id": "b13e1d85-aa94-4929-a88d-db9d8988c1dd",
   "metadata": {
    "tags": []
   },
   "outputs": [
    {
     "name": "stdout",
     "output_type": "stream",
     "text": [
      "4\n",
      "3\n",
      "16\n",
      "11\n",
      "34\n",
      "Northwest contains 12% of all stations.\n",
      "Northeast contains 9% of all stations.\n",
      "Southwest contains 47% of all stations.\n",
      "Southeast contains 32% of all stations.\n"
     ]
    }
   ],
   "source": [
    "north_west_share = (len(north_west) / len(stations) * 100)\n",
    "north_east_share = (len(north_east) / len(stations) * 100)\n",
    "south_west_share = (len(south_west) / len(stations) * 100)\n",
    "south_east_share = (len(south_east) / len(stations) * 100)\n",
    "\n",
    "print(len(north_west))\n",
    "print(len(north_east))\n",
    "print(len(south_west))\n",
    "print(len(south_east))\n",
    "print(len(stations))\n",
    "\n",
    "print(f\"Northwest contains {north_west_share:.0f}% of all stations.\")\n",
    "print(f\"Northeast contains {north_east_share:.0f}% of all stations.\")\n",
    "print(f\"Southwest contains {south_west_share:.0f}% of all stations.\")\n",
    "print(f\"Southeast contains {south_east_share:.0f}% of all stations.\")"
   ]
  },
  {
   "cell_type": "code",
   "execution_count": null,
   "id": "77f1b734-bb94-412d-bfb0-e1164a7f1dc1",
   "metadata": {},
   "outputs": [],
   "source": []
  }
 ],
 "metadata": {
  "kernelspec": {
   "display_name": "Python 3 (ipykernel)",
   "language": "python",
   "name": "python3"
  },
  "language_info": {
   "codemirror_mode": {
    "name": "ipython",
    "version": 3
   },
   "file_extension": ".py",
   "mimetype": "text/x-python",
   "name": "python",
   "nbconvert_exporter": "python",
   "pygments_lexer": "ipython3",
   "version": "3.9.11"
  }
 },
 "nbformat": 4,
 "nbformat_minor": 5
}
