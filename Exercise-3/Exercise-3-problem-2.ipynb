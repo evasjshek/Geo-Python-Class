{
 "cells": [
  {
   "cell_type": "raw",
   "id": "30025d4c-c61e-466e-a978-7e1909404993",
   "metadata": {},
   "source": [
    "https://github.com/Geo-Python-2022/Exercise-3/blob/261470da365c37eccdba10061a87fedd60793073/Exercise-3-problem-2.ipynb"
   ]
  },
  {
   "cell_type": "code",
   "execution_count": 3,
   "id": "293634d6-b2a2-40a0-b1ca-e3fa52be609b",
   "metadata": {
    "tags": []
   },
   "outputs": [],
   "source": [
    "temperatures = [-5.4, 1.0, -1.3, -4.8, 3.9, 0.1, -4.4, 4.0, -2.2, -3.9, 4.4,\n",
    "                -2.5, -4.6, 5.1, 2.1, -2.4, 1.9, -3.3, -4.8, 1.0, -0.8, -2.8,\n",
    "                -0.1, -4.7, -5.6, 2.6, -2.7, -4.6, 3.4, -0.4, -0.9, 3.1, 2.4,\n",
    "                1.6, 4.2, 3.5, 2.6, 3.1, 2.2, 1.8, 3.3, 1.6, 1.5, 4.7, 4.0,\n",
    "                3.6, 4.9, 4.8, 5.3, 5.6, 4.1, 3.7, 7.6, 6.9, 5.1, 6.4, 3.8,\n",
    "                4.0, 8.6, 4.1, 1.4, 8.9, 3.0, 1.6, 8.5, 4.7, 6.6, 8.1, 4.5,\n",
    "                4.8, 11.3, 4.7, 5.2, 11.5, 6.2, 2.9, 4.3, 2.8, 2.8, 6.3, 2.6,\n",
    "                -0.0, 7.3, 3.4, 4.7, 9.3, 6.4, 5.4, 7.6, 5.2]\n",
    "\n",
    "cold = []\n",
    "slippery = []\n",
    "comfortable = []\n",
    "warm = []\n",
    "\n",
    "for i in range(len(temperatures)):\n",
    "    if temperatures[i] < -2.0:\n",
    "        cold.append(temperatures[i])\n",
    "    elif (temperatures[i] >= -2.0) and (temperatures[i] < 2.0):\n",
    "        slippery.append(temperatures[i])\n",
    "    elif (temperatures[i] >= 2.0) and (temperatures[i] <15.0):\n",
    "        comfortable.append(temperatures[i])\n",
    "    else:\n",
    "        warm.append(temperatures[i])\n",
    "    "
   ]
  },
  {
   "cell_type": "code",
   "execution_count": 4,
   "id": "8bee7b11-e0ce-43a7-a8eb-343197c32012",
   "metadata": {
    "tags": []
   },
   "outputs": [
    {
     "name": "stdout",
     "output_type": "stream",
     "text": [
      "[-5.4, -4.8, -4.4, -2.2, -3.9, -2.5, -4.6, -2.4, -3.3, -4.8, -2.8, -4.7, -5.6, -2.7, -4.6]\n",
      "[1.0, -1.3, 0.1, 1.9, 1.0, -0.8, -0.1, -0.4, -0.9, 1.6, 1.8, 1.6, 1.5, 1.4, 1.6, -0.0]\n",
      "[3.9, 4.0, 4.4, 5.1, 2.1, 2.6, 3.4, 3.1, 2.4, 4.2, 3.5, 2.6, 3.1, 2.2, 3.3, 4.7, 4.0, 3.6, 4.9, 4.8, 5.3, 5.6, 4.1, 3.7, 7.6, 6.9, 5.1, 6.4, 3.8, 4.0, 8.6, 4.1, 8.9, 3.0, 8.5, 4.7, 6.6, 8.1, 4.5, 4.8, 11.3, 4.7, 5.2, 11.5, 6.2, 2.9, 4.3, 2.8, 2.8, 6.3, 2.6, 7.3, 3.4, 4.7, 9.3, 6.4, 5.4, 7.6, 5.2]\n",
      "[]\n"
     ]
    }
   ],
   "source": [
    "print(cold)\n",
    "print(slippery)\n",
    "print(comfortable)\n",
    "print(warm)"
   ]
  },
  {
   "cell_type": "code",
   "execution_count": 5,
   "id": "d852420a-6c74-45af-b7fb-ca65453be868",
   "metadata": {
    "tags": []
   },
   "outputs": [],
   "source": [
    "slippery_times = len(slippery)"
   ]
  },
  {
   "cell_type": "code",
   "execution_count": 6,
   "id": "a7c9ed18-eb22-4a1a-894a-cbd840700fc5",
   "metadata": {
    "tags": []
   },
   "outputs": [
    {
     "name": "stdout",
     "output_type": "stream",
     "text": [
      "In April 2013 it was slippery 16 times.\n"
     ]
    }
   ],
   "source": [
    "print(f\"In April 2013 it was slippery {slippery_times} times.\")"
   ]
  },
  {
   "cell_type": "code",
   "execution_count": 7,
   "id": "69e708b7-d5cf-4f34-97ba-29ae6e0d1fce",
   "metadata": {
    "tags": []
   },
   "outputs": [],
   "source": [
    "warm_times = len(warm)"
   ]
  },
  {
   "cell_type": "code",
   "execution_count": 8,
   "id": "0a16912b-39a1-4c7f-bfff-f24b26f795c9",
   "metadata": {
    "tags": []
   },
   "outputs": [
    {
     "name": "stdout",
     "output_type": "stream",
     "text": [
      "In April 2013 it was warm 0 times.\n"
     ]
    }
   ],
   "source": [
    "print(f\"In April 2013 it was warm {warm_times} times.\")"
   ]
  },
  {
   "cell_type": "code",
   "execution_count": 9,
   "id": "72e68c61-4560-4461-8399-9ed40215146b",
   "metadata": {
    "tags": []
   },
   "outputs": [],
   "source": [
    "cold_times = len(cold)"
   ]
  },
  {
   "cell_type": "code",
   "execution_count": 10,
   "id": "8f91cadf-b15e-469f-a467-432810965d20",
   "metadata": {
    "tags": []
   },
   "outputs": [
    {
     "name": "stdout",
     "output_type": "stream",
     "text": [
      "In April 2013 it was cold 15 times.\n"
     ]
    }
   ],
   "source": [
    "print(f\"In April 2013 it was cold {cold_times} times.\")"
   ]
  },
  {
   "cell_type": "code",
   "execution_count": null,
   "id": "1a0d62c4-6d96-4e2d-bb58-e38ba2585b81",
   "metadata": {},
   "outputs": [],
   "source": []
  }
 ],
 "metadata": {
  "kernelspec": {
   "display_name": "Python 3 (ipykernel)",
   "language": "python",
   "name": "python3"
  },
  "language_info": {
   "codemirror_mode": {
    "name": "ipython",
    "version": 3
   },
   "file_extension": ".py",
   "mimetype": "text/x-python",
   "name": "python",
   "nbconvert_exporter": "python",
   "pygments_lexer": "ipython3",
   "version": "3.9.11"
  }
 },
 "nbformat": 4,
 "nbformat_minor": 5
}
