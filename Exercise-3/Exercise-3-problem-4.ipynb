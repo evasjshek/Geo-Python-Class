{
 "cells": [
  {
   "cell_type": "code",
   "execution_count": 10,
   "id": "0faa07f5-bb5e-4fef-b642-1b171d76ed79",
   "metadata": {
    "tags": []
   },
   "outputs": [
    {
     "name": "stdout",
     "output_type": "stream",
     "text": [
      "*******\n",
      "*******\n",
      "*******\n",
      "\n"
     ]
    }
   ],
   "source": [
    "rows = 3\n",
    "columns = 7\n",
    "text = \"\"\n",
    "for i in range(rows):\n",
    "    for i in range(columns):\n",
    "        text = text + \"*\"\n",
    "        #print(\"*\", end = \" \") # print number\n",
    "    text = text + \"\\n\"\n",
    "    \n",
    "print(text)"
   ]
  },
  {
   "cell_type": "raw",
   "id": "05806e9c-fbe4-4e16-a621-76cbd039b81f",
   "metadata": {},
   "source": [
    "https://github.com/Geo-Python-2022/Exercise-3/blob/261470da365c37eccdba10061a87fedd60793073/Exercise-3-problem-4.ipynb\n",
    "\n",
    "For this problem you should do following:\n",
    "\n",
    "Create a variable star with text \"*\" and an empty string variable text. Recall, you can created empty string variables by assigning \"\" as their value.\n",
    "\n",
    "Use nested for loops and the variables above to produce the text formation below when print(text) is run at the end of your script.\n",
    "\n",
    "*******\n",
    "*******\n",
    "*******\n",
    "Create a variable line with text \"-\" and an empty string variable flag.\n",
    "\n",
    "Use nested for loops and the variables above to produce the text formation below when print(flag) is run at the end of your script. Note: You will need to use conditional statements to produce the desired output.\n",
    "\n",
    "*******------------\n",
    "*******------------\n",
    "*******------------\n",
    "-------------------\n",
    "-------------------"
   ]
  },
  {
   "cell_type": "code",
   "execution_count": 2,
   "id": "3f019951-214d-47e5-9743-20ce953b1f17",
   "metadata": {
    "tags": []
   },
   "outputs": [
    {
     "name": "stdout",
     "output_type": "stream",
     "text": [
      "* * * * * * * \n",
      "* * * * * * * \n",
      "* * * * * * * \n"
     ]
    }
   ],
   "source": [
    "star = \"*\"\n",
    "test = \"\"\n",
    "# pattern W:7, H:3\n",
    "\n",
    "for i in range(3):\n",
    "    for i in range(7):\n",
    "        print(star, end = \" \")\n",
    "    print(test)"
   ]
  },
  {
   "cell_type": "code",
   "execution_count": 4,
   "id": "807da513-b296-4c3f-95c5-2074c9590ada",
   "metadata": {
    "tags": []
   },
   "outputs": [
    {
     "name": "stdout",
     "output_type": "stream",
     "text": [
      "* * * * * * * - - - - - - - - - - - - \n",
      "* * * * * * * - - - - - - - - - - - - \n",
      "* * * * * * * - - - - - - - - - - - - \n",
      "- - - - - - - - - - - - - - - - - - - \n",
      "- - - - - - - - - - - - - - - - - - - \n"
     ]
    }
   ],
   "source": [
    "rows = 5\n",
    "columns = 19\n",
    "flag = \"-\"\n",
    "star = \"*\"\n",
    "test = \"\"\n",
    "\n",
    "#this handle the lines\n",
    "for i in range(rows):\n",
    "    #This handle the stars\n",
    "    if i < 3:\n",
    "        for i in range(columns):\n",
    "            if i < 7 :\n",
    "                print(star, end = \" \")\n",
    "            else:\n",
    "                print(flag, end = \" \")\n",
    "    else:\n",
    "        for i in range (columns):\n",
    "            print(flag, end = \" \")\n",
    "    print(\"\")   "
   ]
  },
  {
   "cell_type": "code",
   "execution_count": 12,
   "id": "f74b4782-fb12-42f5-a5a4-41a11cfaa6e5",
   "metadata": {
    "tags": []
   },
   "outputs": [
    {
     "name": "stdout",
     "output_type": "stream",
     "text": [
      "*******------------\n",
      "*******------------\n",
      "*******------------\n",
      "-------------------\n",
      "-------------------\n",
      "\n"
     ]
    }
   ],
   "source": [
    "flag = \"\"\n",
    "rows = 5\n",
    "columns = 19\n",
    "for i in range(rows):\n",
    "    for j in range(columns):\n",
    "        if j < 7 and i < 3:\n",
    "            flag = flag + star\n",
    "        else:\n",
    "            flag = flag + \"-\"\n",
    "    flag = flag + \"\\n\"\n",
    "print(flag)"
   ]
  },
  {
   "cell_type": "code",
   "execution_count": null,
   "id": "4bb7b9ac-0a46-464e-b65a-d12f63ce794d",
   "metadata": {},
   "outputs": [],
   "source": [
    "flag = \"\"\n",
    "rows = 5\n",
    "columns = 19\n",
    "for i in range(rows):\n",
    "    for j in range(columns):\n",
    "        if j < 7 and i < 3:\n",
    "            flag = flag + star\n",
    "        else:\n",
    "            flag = flag + \"-\"\n",
    "    flag = flag + \"\\n\"\n",
    "print(flag)"
   ]
  }
 ],
 "metadata": {
  "kernelspec": {
   "display_name": "Python 3 (ipykernel)",
   "language": "python",
   "name": "python3"
  },
  "language_info": {
   "codemirror_mode": {
    "name": "ipython",
    "version": 3
   },
   "file_extension": ".py",
   "mimetype": "text/x-python",
   "name": "python",
   "nbconvert_exporter": "python",
   "pygments_lexer": "ipython3",
   "version": "3.9.11"
  }
 },
 "nbformat": 4,
 "nbformat_minor": 5
}
