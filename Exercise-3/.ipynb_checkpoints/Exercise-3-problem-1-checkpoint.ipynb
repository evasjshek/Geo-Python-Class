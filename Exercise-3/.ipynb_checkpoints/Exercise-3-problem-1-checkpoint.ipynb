{
 "cells": [
  {
   "cell_type": "code",
   "execution_count": 1,
   "id": "a846585a-7899-4e2b-8d7f-b258d93d436e",
   "metadata": {
    "tags": []
   },
   "outputs": [],
   "source": [
    "#Create a new variable called basename that contains the text \"Station\".\n",
    "basename = \"Station\""
   ]
  },
  {
   "cell_type": "code",
   "execution_count": 2,
   "id": "732fd324-921a-4492-a826-a2b19f2b78b1",
   "metadata": {
    "tags": []
   },
   "outputs": [
    {
     "name": "stdout",
     "output_type": "stream",
     "text": [
      "Station\n"
     ]
    }
   ],
   "source": [
    "print(basename)"
   ]
  },
  {
   "cell_type": "code",
   "execution_count": 3,
   "id": "a0252607-b56a-490d-b5b4-2b03ce59418c",
   "metadata": {
    "tags": []
   },
   "outputs": [],
   "source": [
    "#Create a new variable filenames that is an empty list.\n",
    "filenames = []"
   ]
  },
  {
   "cell_type": "code",
   "execution_count": 4,
   "id": "c6b46914-1a5c-4a54-a87b-9f47a053c2cd",
   "metadata": {
    "tags": []
   },
   "outputs": [
    {
     "name": "stdout",
     "output_type": "stream",
     "text": [
      "[]\n"
     ]
    }
   ],
   "source": [
    "print(filenames)"
   ]
  },
  {
   "cell_type": "code",
   "execution_count": 5,
   "id": "9bf77396-f994-45dd-96d2-25012f3723a0",
   "metadata": {
    "tags": []
   },
   "outputs": [
    {
     "name": "stdout",
     "output_type": "stream",
     "text": [
      "<class 'list'>\n"
     ]
    }
   ],
   "source": [
    "print(type(filenames))"
   ]
  },
  {
   "cell_type": "markdown",
   "id": "03d1143c-4dbe-4efc-b7fc-7bef34b444c6",
   "metadata": {},
   "source": [
    "Using a for loop, iterate over the number range 0-20. Within the loop you should:\n",
    "Create a variable station that contains:\n",
    "(1) the text from the basename variable\n",
    "(2) the number\n",
    "(3) the file extension .txt\n",
    "\n",
    "Add the content of station to the filenames list, which should have following content in the end:\n",
    "['Station_0.txt', 'Station_1.txt', 'Station_2.txt', 'Station_3.txt',\n",
    " 'Station_4.txt', 'Station_5.txt', 'Station_6.txt', 'Station_7.txt',\n",
    " 'Station_8.txt', 'Station_9.txt', 'Station_10.txt', 'Station_11.txt',\n",
    " 'Station_12.txt', 'Station_13.txt', 'Station_14.txt', 'Station_15.txt',\n",
    " 'Station_16.txt', 'Station_17.txt', 'Station_18.txt', 'Station_19.txt',\n",
    " 'Station_20.txt']"
   ]
  },
  {
   "cell_type": "code",
   "execution_count": 18,
   "id": "129effd0-9d5d-48b0-ad8a-0118b4c402e8",
   "metadata": {
    "tags": []
   },
   "outputs": [
    {
     "name": "stdout",
     "output_type": "stream",
     "text": [
      "['Station_0.txt', 'Station_1.txt', 'Station_2.txt', 'Station_3.txt', 'Station_4.txt', 'Station_5.txt', 'Station_6.txt', 'Station_7.txt', 'Station_8.txt', 'Station_9.txt', 'Station_10.txt', 'Station_11.txt', 'Station_12.txt', 'Station_13.txt', 'Station_14.txt', 'Station_15.txt', 'Station_16.txt', 'Station_17.txt', 'Station_18.txt', 'Station_19.txt', 'Station_20.txt']\n"
     ]
    }
   ],
   "source": [
    "filenames = []\n",
    "for i in range(21):\n",
    "    filenames.append(basename + \"_\" + str(i) + \".txt\")\n",
    "print(filenames)"
   ]
  },
  {
   "cell_type": "code",
   "execution_count": 29,
   "id": "00e997d8-763e-411a-b6df-58ce5f01ffe3",
   "metadata": {
    "tags": []
   },
   "outputs": [
    {
     "name": "stdout",
     "output_type": "stream",
     "text": [
      "station\n"
     ]
    }
   ],
   "source": [
    "print(basename.lower().strip())\n",
    "assert filenames[20].lower().strip() == 'station_20.txt'"
   ]
  },
  {
   "cell_type": "code",
   "execution_count": 22,
   "id": "e6670845-0fab-4efc-a010-87f8afd746bf",
   "metadata": {
    "tags": []
   },
   "outputs": [],
   "source": [
    "assert len(filenames) == 21"
   ]
  },
  {
   "cell_type": "code",
   "execution_count": 23,
   "id": "beb4f411-62e0-4d49-a75c-f7aafc4c7ccb",
   "metadata": {
    "tags": []
   },
   "outputs": [
    {
     "name": "stdout",
     "output_type": "stream",
     "text": [
      "21\n"
     ]
    }
   ],
   "source": [
    "print(len(filenames))"
   ]
  },
  {
   "cell_type": "code",
   "execution_count": null,
   "id": "a311ea97-15e6-4d8f-88a6-d9aeedff70d8",
   "metadata": {},
   "outputs": [],
   "source": []
  }
 ],
 "metadata": {
  "kernelspec": {
   "display_name": "Python 3 (ipykernel)",
   "language": "python",
   "name": "python3"
  },
  "language_info": {
   "codemirror_mode": {
    "name": "ipython",
    "version": 3
   },
   "file_extension": ".py",
   "mimetype": "text/x-python",
   "name": "python",
   "nbconvert_exporter": "python",
   "pygments_lexer": "ipython3",
   "version": "3.9.11"
  }
 },
 "nbformat": 4,
 "nbformat_minor": 5
}
